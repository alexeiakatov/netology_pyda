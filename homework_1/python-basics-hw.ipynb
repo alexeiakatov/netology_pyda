{
 "cells": [
  {
   "cell_type": "markdown",
   "metadata": {},
   "source": [
    "**Задание 1**. Даны 2 строки: *long_phrase* и *short_phrase*. \n",
    "Напишите код, который проверяет действительно ли длинная фраза *long_phrase* длиннее короткой *short_phrase*. И выводит *True* или *False* в зависимости от результата сравнения."
   ]
  },
  {
   "cell_type": "code",
   "execution_count": 5,
   "metadata": {},
   "outputs": [
    {
     "name": "stdout",
     "output_type": "stream",
     "text": [
      "Длина длинной фразы:  62\n",
      "Длина короткой фразы:  61\n",
      "Длинная фраза длиннее короткой:  True\n"
     ]
    }
   ],
   "source": [
    "long_phrase = 'Насколько проще было бы писать программы, если бы не заказчики'\n",
    "short_phrase = '640Кб должно хватить для любых задач. Билл Гейтс (по легенде)'\n",
    "\n",
    "print('Длина длинной фразы: ', len(long_phrase))\n",
    "print('Длина короткой фразы: ', len(short_phrase))\n",
    "\n",
    "print('Длинная фраза длиннее короткой: ', len(long_phrase) > len(short_phrase))"
   ]
  },
  {
   "cell_type": "markdown",
   "metadata": {},
   "source": [
    "**Задание 2**. Дано значение объема файла в байтах. Напишите перевод этого значения в мегабайты в формате: \"*Объем файла равен 213.68Mb*\""
   ]
  },
  {
   "cell_type": "code",
   "execution_count": 61,
   "metadata": {},
   "outputs": [
    {
     "name": "stdout",
     "output_type": "stream",
     "text": [
      "Введите размер файла в байтах: 23\n",
      "Объем файла равен 0.00Mb\n"
     ]
    }
   ],
   "source": [
    "from decimal import Decimal\n",
    "\n",
    "RESULT_MESSAGE = 'Объем файла равен {:s}Mb'\n",
    "ERROR_MESSAGE = 'Неправильно введено число!'\n",
    "INPUT_MESSAGE = 'Введите размер файла в байтах: '\n",
    "BYTES_IN_MB = Decimal(1024 * 1024)\n",
    "\n",
    "file_byte_size_string = input(INPUT_MESSAGE).strip()\n",
    "\n",
    "is_valid_number = len(file_byte_size_string) > 0 and file_byte_size_string.isnumeric()\n",
    "\n",
    "if (is_valid_number):\n",
    "      \n",
    "    file_byte_size = Decimal(file_byte_size_string)\n",
    "\n",
    "    result = str(round(file_byte_size / BYTES_IN_MB, 2))\n",
    "    \n",
    "    print(RESULT_MESSAGE.format(result) )\n",
    "    \n",
    "else:\n",
    "    print(ERROR_MESSAGE)\n",
    "    "
   ]
  },
  {
   "cell_type": "markdown",
   "metadata": {},
   "source": [
    "**Задание 3**. Разработать приложение для определения знака зодиака по дате рождения. Пример:\n",
    "\n",
    "Введите месяц: март\n",
    "\n",
    "Введите число: 6\n",
    "\n",
    "Вывод:\n",
    "Рыбы"
   ]
  },
  {
   "cell_type": "code",
   "execution_count": 3,
   "metadata": {},
   "outputs": [
    {
     "name": "stdout",
     "output_type": "stream",
     "text": [
      "Введите число: 23\n",
      "Введите месяц: февраль\n",
      "Вывод: Рыбы\n"
     ]
    }
   ],
   "source": [
    "from decimal import Decimal\n",
    "\n",
    "INPUT_MESSAGE_MONTH = 'Введите месяц: '\n",
    "INPUT_MESSAGE_DAY = 'Введите число: '\n",
    "RESULT = 'Вывод: {:s}'\n",
    "\n",
    "BAD_MONTH_MESSAGE = 'Неправильно введен месяц!'\n",
    "BAD_DAY_MESSAGE = 'Неправильно введен день!'\n",
    "\n",
    "months = ['январь', 'февраль', 'март', 'апрель', 'май', 'июнь', 'июль', 'август', 'сентябрь', 'октябрь', 'ноябрь', 'декабрь']\n",
    "\n",
    "zodiac_signs = [\n",
    "    {'name': 'Овен', 'start_month': 'март', 'start_day': 21, 'end_month': 'апрель', 'end_day': 20},\n",
    "    {'name': 'Телец', 'start_month': 'апрель', 'start_day': 21, 'end_month': 'май', 'end_day': 20},\n",
    "    {'name': 'Близнецы', 'start_month': 'май', 'start_day': 21, 'end_month': 'июнь', 'end_day': 20},\n",
    "    {'name': 'Рак', 'start_month': 'июнь', 'start_day': 21, 'end_month': 'июль', 'end_day': 22},\n",
    "    {'name': 'Лев', 'start_month': 'июль', 'start_day': 23, 'end_month': 'август', 'end_day': 22},\n",
    "    {'name': 'Дева', 'start_month': 'август', 'start_day': 23, 'end_month': 'сентябрь', 'end_day': 22},\n",
    "    {'name': 'Весы', 'start_month': 'сентябрь', 'start_day': 23, 'end_month': 'октябрь', 'end_day': 22},\n",
    "    {'name': 'Скорпион', 'start_month': 'октябрь', 'start_day': 23, 'end_month': 'ноябрь', 'end_day': 22},\n",
    "    {'name': 'Стрелец', 'start_month': 'ноябрь', 'start_day': 23, 'end_month': 'декабрь', 'end_day': 21},\n",
    "    {'name': 'Козерог', 'start_month': 'декабрь', 'start_day': 22, 'end_month': 'январь', 'end_day': 19},\n",
    "    {'name': 'Водолей', 'start_month': 'январь', 'start_day': 19, 'end_month': 'февраль', 'end_day': 19},\n",
    "    {'name': 'Рыбы', 'start_month': 'февраль', 'start_day': 20, 'end_month': 'март', 'end_day': 20}\n",
    "]\n",
    "\n",
    "day_string = input(INPUT_MESSAGE_DAY).lower().strip()\n",
    "month_string = input(INPUT_MESSAGE_MONTH).lower().strip()\n",
    "\n",
    "is_valid_day = False\n",
    "is_valid_month = False\n",
    "day_decimal = None\n",
    "\n",
    "# Проверка валидности введенного дня\n",
    "if (len(day_string) > 0 and day_string.isnumeric()):\n",
    "    day_decimal = Decimal(day_string)\n",
    "    \n",
    "    if (0 < day_decimal < 32 ):\n",
    "        is_valid_day = True\n",
    "    \n",
    "# Проверка валидности введенного месяца        \n",
    "if (len(month_string) > 0 and month_string in months):\n",
    "    is_valid_month = True\n",
    "\n",
    "# Основная логика\n",
    "if (is_valid_day and is_valid_month):\n",
    "        \n",
    "    for zodiac_sign in zodiac_signs:\n",
    "        \n",
    "        if (zodiac_sign['start_month'] == month_string and zodiac_sign['start_day'] <= day_decimal):\n",
    "            print(RESULT.format(zodiac_sign['name']))\n",
    "                        \n",
    "        elif (zodiac_sign['end_month'] == month_string and zodiac_sign['end_day'] >= day_decimal):\n",
    "            print(RESULT.format(zodiac_sign['name']))\n",
    "            \n",
    "if not is_valid_day:\n",
    "    print(BAD_DAY_MESSAGE)\n",
    "    \n",
    "if not is_valid_month:\n",
    "    print(BAD_MONTH_MESSAGE)\n"
   ]
  },
  {
   "cell_type": "code",
   "execution_count": null,
   "metadata": {},
   "outputs": [],
   "source": []
  },
  {
   "cell_type": "markdown",
   "metadata": {},
   "source": [
    "**Задание 4**. Нужно разработать приложение для финансового планирования.\n",
    "Приложение учитывает сколько уходит на ипотеку, \"на жизнь\" и сколько нужно отложить на пенсию.\n",
    "Пользователь вводит:\n",
    "- заработанную плату в месяц.\n",
    "- сколько процентов от ЗП уходит на ипотеку.\n",
    "- сколько процентов от ЗП уходит \"на жизнь\".\n",
    "- сколько раз приходит премия в год.\n",
    "\n",
    "Остальная часть заработанной платы откладывается на пенсию.\n",
    "\n",
    "Также пользователю приходит премия в размере зарплаты, от которой половина уходит на отпуск, а вторая половина откладывается.\n",
    "\n",
    "Программа должна учитывать сколько премий было в год.\n",
    "\n",
    "Нужно вывести сколько денег тратит пользователь на ипотеку и сколько он накопит за год.\n",
    "\n",
    "Пример:\n",
    "\n",
    "Введите заработанную плату в месяц: 100000\n",
    "\n",
    "Введите сколько процентов уходит на ипотеку: 30\n",
    "\n",
    "Введите сколько процентов уходит на жизнь: 50\n",
    "\n",
    "Введите количество премий за год: 2\n",
    "\n",
    "Вывод:\n",
    "На ипотеку было потрачено: 360000 рублей\n",
    "Было накоплено: 340000 рублей"
   ]
  },
  {
   "cell_type": "code",
   "execution_count": 9,
   "metadata": {
    "scrolled": true
   },
   "outputs": [
    {
     "name": "stdout",
     "output_type": "stream",
     "text": [
      "Заработная плата в месяц: 10\n",
      "Сколько процентов от ЗП уходит на ипотеку: 10\n",
      "Сколько процентов от ЗП уходит \"на жизнь\": 80\n",
      "Сколько раз в год приходит премия: 2\n",
      "\n",
      "На пенсию было накоплено: 22.0\n",
      "На ипотеку было потрачено: 12.0\n",
      "На отпуск было отложено: 10.0\n"
     ]
    }
   ],
   "source": [
    "from decimal import Decimal\n",
    "from sys import exit\n",
    "\n",
    "SALARY_PER_MONTH_MESSAGE = 'Заработная плата в месяц: ';\n",
    "SALARY_PERCENT_FOR_MORTGAGE_MESSAGE = 'Сколько процентов от ЗП уходит на ипотеку: ';\n",
    "SALARY_PERCENT_FOR_LIFE_MESSAGE = 'Сколько процентов от ЗП уходит \"на жизнь\": ';\n",
    "COUNT_OF_PREMIUM_PER_YEAR_MESSAGE = 'Сколько раз в год приходит премия: ';\n",
    "\n",
    "BAD_INPUT_PARAMETER_MESSAGE = 'Неправильно введен один из параметров';\n",
    "BAD_NUMERIC_VALUE_MESSAGE = 'Один из параметров имеет недопустимое значение';\n",
    "BAD_PREMIUM_USE_MESSAGE = 'Неправильно настроено использование премии';\n",
    "BAD_SALARY_USE_MESSAGE = 'Нельзя использовать более 100% зарплаты';\n",
    "\n",
    "RESULT_PENSIONT_MESSAGE = 'На пенсию было накоплено: {:f}';\n",
    "RESULT_MORTGAGE_MESSAGE = 'На ипотеку было потрачено: {:f}';\n",
    "RESULT_VACATION_MESSAGE = 'На отпуск было отложено: {:f}'\n",
    "\n",
    "MONTHS_IN_YEAR = Decimal(12);\n",
    "PART_OF_PREMIUM_FOR_VACATION = Decimal(0.5);\n",
    "PART_OF_PREMIUM_FOR_PENSION = Decimal(0.5);\n",
    "\n",
    "\n",
    "# Валидация распределения премии\n",
    "if (PART_OF_PREMIUM_FOR_PENSION + PART_OF_PREMIUM_FOR_VACATION > 1):\n",
    "    exit(BAD_PREMIUM_USE_MESSAGE);\n",
    "\n",
    "# Ввод пользователем входных данных    \n",
    "salary_per_month_string = input(SALARY_PER_MONTH_MESSAGE).strip();\n",
    "salary_percent_for_mortgage_string = input(SALARY_PERCENT_FOR_MORTGAGE_MESSAGE).strip();\n",
    "salary_percent_for_life_string = input(SALARY_PERCENT_FOR_LIFE_MESSAGE).strip();\n",
    "count_of_premium_per_year_string = input(COUNT_OF_PREMIUM_PER_YEAR_MESSAGE).strip();\n",
    "\n",
    "all_params_numeric = False;\n",
    "all_numeric_params_valid = False;\n",
    "\n",
    "# Валидация ввода: все ли значения являются числовыми\n",
    "if (not salary_per_month_string.isnumeric()\n",
    "   or not salary_percent_for_mortgage_string.isnumeric()\n",
    "   or not salary_percent_for_life_string.isnumeric()\n",
    "   or not count_of_premium_per_year_string.isnumeric()):\n",
    "\n",
    "    print(BAD_INPUT_PARAMETER_MESSAGE);\n",
    "    \n",
    "else:\n",
    "    all_params_numeric = True;\n",
    "    \n",
    "\n",
    "salary_per_month = None;\n",
    "salary_percent_for_mortgage = None;\n",
    "salary_percent_for_life = None;\n",
    "count_of_premium_per_year = None;\n",
    "\n",
    "# Приведение к числовому типу и валидация числового значения     \n",
    "if (all_params_numeric):      \n",
    "    \n",
    "    salary_per_month = Decimal(salary_per_month_string);\n",
    "    salary_percent_for_mortgage = Decimal(salary_percent_for_mortgage_string);\n",
    "    salary_percent_for_life = Decimal(salary_percent_for_life_string);\n",
    "    count_of_premium_per_year = Decimal(count_of_premium_per_year_string);\n",
    "    \n",
    "    # Валидация граничных значений    \n",
    "    if (salary_per_month < 0 \n",
    "       or count_of_premium_per_year < 0\n",
    "       or (salary_percent_for_mortgage < 0 or salary_percent_for_mortgage > 100)\n",
    "       or (salary_percent_for_life < 0 or salary_percent_for_life > 100 )):\n",
    "        \n",
    "        print('')\n",
    "        print(BAD_NUMERIC_VALUE_MESSAGE);\n",
    "            \n",
    "    # Валидация использования зп на выплату ипотеки и на \"жизнь\"\n",
    "    elif (salary_percent_for_mortgage + salary_percent_for_life > 100):\n",
    "        print('')\n",
    "        print(BAD_SALARY_USE_MESSAGE);\n",
    "    \n",
    "    else:\n",
    "        all_numeric_params_valid = True;\n",
    "                \n",
    "\n",
    "if (all_numeric_params_valid):\n",
    "    \n",
    "    premium_size = salary_per_month;        \n",
    "    year_salary = MONTHS_IN_YEAR * salary_per_month;\n",
    "    \n",
    "    # На отпуск\n",
    "    vacation_sum = count_of_premium_per_year * premium_size * PART_OF_PREMIUM_FOR_VACATION;\n",
    "    \n",
    "    # Часть премии откладывается на пенсию     \n",
    "    pension_sum = count_of_premium_per_year * premium_size * PART_OF_PREMIUM_FOR_PENSION;\n",
    "    \n",
    "    # На ипотеку\n",
    "    mortgage_sum = year_salary / 100 * salary_percent_for_mortgage;\n",
    "    \n",
    "    # На жизнь\n",
    "    life_sum = year_salary / 100 * salary_percent_for_life;\n",
    "    \n",
    "    # Все что осталось - на пенсию\n",
    "    pension_sum += year_salary - mortgage_sum - life_sum;\n",
    "        \n",
    "    print('');\n",
    "    print(RESULT_PENSIONT_MESSAGE.format(pension_sum));\n",
    "    print(RESULT_MORTGAGE_MESSAGE.format(mortgage_sum));\n",
    "    print(RESULT_VACATION_MESSAGE.format(vacation_sum));\n",
    "    "
   ]
  }
 ],
 "metadata": {
  "kernelspec": {
   "display_name": "Python 3",
   "language": "python",
   "name": "python3"
  },
  "language_info": {
   "codemirror_mode": {
    "name": "ipython",
    "version": 3
   },
   "file_extension": ".py",
   "mimetype": "text/x-python",
   "name": "python",
   "nbconvert_exporter": "python",
   "pygments_lexer": "ipython3",
   "version": "3.7.6"
  }
 },
 "nbformat": 4,
 "nbformat_minor": 2
}
