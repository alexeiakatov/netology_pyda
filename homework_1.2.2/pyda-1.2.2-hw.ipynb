{
 "cells": [
  {
   "cell_type": "markdown",
   "metadata": {},
   "source": [
    "## Задание 1"
   ]
  },
  {
   "cell_type": "markdown",
   "metadata": {},
   "source": [
    "Дан список с визитами по городам и странам. \n",
    "Напишите код, который возвращает отфильтрованный список geo_logs, содержащий только визиты из России."
   ]
  },
  {
   "cell_type": "code",
   "execution_count": 9,
   "metadata": {},
   "outputs": [],
   "source": [
    "geo_logs = [\n",
    "    {'visit1': ['Москва', 'Россия']},\n",
    "    {'visit2': ['Дели', 'Индия']},\n",
    "    {'visit3': ['Владимир', 'Россия']},\n",
    "    {'visit4': ['Лиссабон', 'Португалия']},\n",
    "    {'visit5': ['Париж', 'Франция']},\n",
    "    {'visit6': ['Лиссабон', 'Португалия']},\n",
    "    {'visit7': ['Тула', 'Россия']},\n",
    "    {'visit8': ['Тула', 'Россия']},\n",
    "    {'visit9': ['Курск', 'Россия']},\n",
    "    {'visit10': ['Архангельск', 'Россия']}\n",
    "]"
   ]
  },
  {
   "cell_type": "code",
   "execution_count": 5,
   "metadata": {},
   "outputs": [
    {
     "name": "stdout",
     "output_type": "stream",
     "text": [
      "{'visit1': ['Москва', 'Россия']}\n",
      "{'visit3': ['Владимир', 'Россия']}\n",
      "{'visit7': ['Тула', 'Россия']}\n",
      "{'visit8': ['Тула', 'Россия']}\n",
      "{'visit9': ['Курск', 'Россия']}\n",
      "{'visit10': ['Архангельск', 'Россия']}\n"
     ]
    }
   ],
   "source": [
    "geo_logs = [\n",
    "    {'visit1': ['Москва', 'Россия']},\n",
    "    {'visit2': ['Дели', 'Индия']},\n",
    "    {'visit3': ['Владимир', 'Россия']},\n",
    "    {'visit4': ['Лиссабон', 'Португалия']},\n",
    "    {'visit5': ['Париж', 'Франция']},\n",
    "    {'visit6': ['Лиссабон', 'Португалия']},\n",
    "    {'visit7': ['Тула', 'Россия']},\n",
    "    {'visit8': ['Тула', 'Россия']},\n",
    "    {'visit9': ['Курск', 'Россия']},\n",
    "    {'visit10': ['Архангельск', 'Россия']}\n",
    "]\n",
    "\n",
    "VISIT_NAME_INDEX = 0\n",
    "VISIT_ROUTE_INDEX = 1\n",
    "\n",
    "ROUTE_COUNTRY_INDEX = 1\n",
    "TARGET_COUNTRY = 'Россия'\n",
    "\n",
    "ROUTE_LIST_LENGTH = 2\n",
    "VISIT_KEY_PREFIX = 'visit'\n",
    "\n",
    "\n",
    "get_logs = lambda: geo_logs\n",
    "\n",
    "is_target_key = lambda key: (key is not None\n",
    "                             and type(key) == str\n",
    "                             and key.startswith(VISIT_KEY_PREFIX))\n",
    "\n",
    "\n",
    "is_route_valid = lambda route: (route is not None\n",
    "                                and type(route) == list\n",
    "                                and len(route) == ROUTE_LIST_LENGTH\n",
    "                                and route[ROUTE_COUNTRY_INDEX] is not None)\n",
    "\n",
    "\n",
    "is_target_route = lambda route: route[ROUTE_COUNTRY_INDEX] == TARGET_COUNTRY\n",
    "\n",
    "\n",
    "get_target_logs = lambda geo_logs: ([log_item\n",
    "                                     for log_item in geo_logs\n",
    "                                     for key, value in log_item.items()\n",
    "                                     if is_target_key(key)\n",
    "                                     and is_route_valid(value)\n",
    "                                     and is_target_route(value)])\n",
    "\n",
    "\n",
    "remove_invalid_logs = lambda geo_logs: ([log_item for log_item in geo_logs\n",
    "                                         if log_item is not None\n",
    "                                         and type(log_item) == dict\n",
    "                                         and len(log_item) > 0])\n",
    "\n",
    "\n",
    "def show_logs(logs):\n",
    "    for log_item in logs:\n",
    "        print(log_item)\n",
    "\n",
    "\n",
    "def main():\n",
    "    target_logs = get_target_logs(get_logs())\n",
    "    show_logs(target_logs)\n",
    "\n",
    "\n",
    "if __name__ == '__main__':\n",
    "    main()\n"
   ]
  },
  {
   "cell_type": "markdown",
   "metadata": {},
   "source": [
    "## Задание 2"
   ]
  },
  {
   "cell_type": "markdown",
   "metadata": {},
   "source": [
    "Выведите на экран все уникальные гео-ID из значений словаря ids. Т. е. список вида [213, 15, 54, 119, 98, 35]"
   ]
  },
  {
   "cell_type": "code",
   "execution_count": 4,
   "metadata": {},
   "outputs": [],
   "source": [
    "ids = {'user1': [213, 213, 213, 15, 213], \n",
    "       'user2': [54, 54, 119, 119, 119], \n",
    "       'user3': [213, 98, 98, 35]}"
   ]
  },
  {
   "cell_type": "code",
   "execution_count": 6,
   "metadata": {},
   "outputs": [
    {
     "name": "stdout",
     "output_type": "stream",
     "text": [
      "{98, 35, 15, 213, 54, 119}\n"
     ]
    }
   ],
   "source": [
    "ids = {'user1': [213, 213, 213, 15, 213],\n",
    "       'user2': [54, 54, 119, 119, 119],\n",
    "       'user3': [213, 98, 98, 35]}\n",
    "\n",
    "\n",
    "def main():\n",
    "    unique_ids = {value for id_list in ids.values() for value in id_list}\n",
    "    print(unique_ids)\n",
    "\n",
    "\n",
    "if __name__ == '__main__':\n",
    "    main()\n",
    "    "
   ]
  },
  {
   "cell_type": "markdown",
   "metadata": {},
   "source": [
    "## Задание 3"
   ]
  },
  {
   "cell_type": "markdown",
   "metadata": {},
   "source": [
    "Дан список поисковых запросов. Получить распределение количества слов в них. \n",
    "Т. е. поисковых запросов из одного - слова 5%, из двух - 7%, из трех - 3% и т.д."
   ]
  },
  {
   "cell_type": "code",
   "execution_count": 1,
   "metadata": {},
   "outputs": [],
   "source": [
    "queries = [\n",
    "    'смотреть сериалы онлайн',\n",
    "    'новости спорта',\n",
    "    'афиша кино',\n",
    "    'курс доллара',\n",
    "    'сериалы этим летом',\n",
    "    'курс по питону',\n",
    "    'сериалы про спорт',\n",
    "]"
   ]
  },
  {
   "cell_type": "code",
   "execution_count": 1,
   "metadata": {},
   "outputs": [
    {
     "name": "stdout",
     "output_type": "stream",
     "text": [
      "2 : 42.86\n",
      "3 : 57.14\n"
     ]
    }
   ],
   "source": [
    "queries = [\n",
    "    'смотреть сериалы онлайн',\n",
    "    'новости спорта',\n",
    "    'афиша кино',\n",
    "    'курс доллара',\n",
    "    'сериалы этим летом',\n",
    "    'курс по питону',\n",
    "    'сериалы про спорт',\n",
    "]\n",
    "\n",
    "get_queries = lambda: queries\n",
    "\n",
    "\n",
    "def remove_invalid_elements(queries_list):\n",
    "    return ([query for query in queries\n",
    "             if query is not None\n",
    "             and type(query) == str\n",
    "             and len(query) > 0])\n",
    "\n",
    "\n",
    "def normalize_queries(queries):\n",
    "    not_empty_queries = remove_invalid_elements(queries)\n",
    "\n",
    "    # нормализуем сплит-массив, т.к. между словами могло быть больше одного пробела\n",
    "    result = []\n",
    "    for query in queries:\n",
    "        query_split = [word for word in query.split(' ') if len(word) > 0]\n",
    "        result.append(query_split)\n",
    "\n",
    "    return result\n",
    "\n",
    "\n",
    "def show_result(words_to_percent):\n",
    "    for key, value in words_to_percent.items():\n",
    "        print(f'{key} : {value}')\n",
    "\n",
    "\n",
    "def get_words_to_queries(unique_word_counts, normalized_queries):\n",
    "    words_to_queries = {}\n",
    "\n",
    "    for word_count in unique_word_counts:\n",
    "        for query_split in normalized_queries:\n",
    "            if len(query_split) == word_count:\n",
    "                words_to_queries[word_count] = words_to_queries.get(word_count, 0) + 1\n",
    "\n",
    "    return words_to_queries\n",
    "\n",
    "\n",
    "def get_words_to_percent(all_queries_count, words_to_queries):\n",
    "    words_to_percent = {}\n",
    "\n",
    "    for word_count, query_count in words_to_queries.items():\n",
    "        words_to_percent[word_count] = round(query_count / all_queries_count * 100, 2)\n",
    "\n",
    "    return words_to_percent\n",
    "\n",
    "\n",
    "def main():\n",
    "    normalized_queries = normalize_queries(get_queries())\n",
    "    unique_word_counts = {len(query_split) for query_split in normalized_queries}\n",
    "\n",
    "    words_count_to_query_count = get_words_to_queries(unique_word_counts, normalized_queries)\n",
    "\n",
    "    all_queries_count = len(normalized_queries)\n",
    "    words_count_to_percent = get_words_to_percent(all_queries_count, words_count_to_query_count)\n",
    "\n",
    "    show_result(words_count_to_percent)\n",
    "\n",
    "\n",
    "if __name__ == '__main__':\n",
    "    main()\n"
   ]
  },
  {
   "cell_type": "markdown",
   "metadata": {},
   "source": [
    "## Задание 4"
   ]
  },
  {
   "cell_type": "markdown",
   "metadata": {},
   "source": [
    "Дана статистика рекламных каналов по объемам продаж. Напишите скрипт, который возвращает название канала с максимальным объемом.\n",
    "Т. е. в данном примере скрипт должен возвращать 'yandex'."
   ]
  },
  {
   "cell_type": "code",
   "execution_count": 8,
   "metadata": {},
   "outputs": [],
   "source": [
    "stats = {'facebook': 55, 'yandex': 120, 'vk': 115, 'google': 99, 'email': 42, 'ok': 98}"
   ]
  },
  {
   "cell_type": "code",
   "execution_count": 4,
   "metadata": {},
   "outputs": [
    {
     "name": "stdout",
     "output_type": "stream",
     "text": [
      "yandex : 120\n"
     ]
    }
   ],
   "source": [
    "stats = {'facebook': 55, 'yandex': 120, 'vk': 115, 'google': 99, 'email': 42, 'ok': 98}\n",
    "\n",
    "CHANNEL_SALES_INDEX = 1\n",
    "CHANNEL_NAME_INDEX = 0\n",
    "\n",
    "MAX_SALES_CHANNEL_INDEX = 0\n",
    "\n",
    "\n",
    "get_stats = lambda: stats\n",
    "\n",
    "\n",
    "map_to_list = lambda map: [[k, v] for k, v in stats.items()]\n",
    "\n",
    "\n",
    "max_sales_sort_lambda = lambda item: item[CHANNEL_SALES_INDEX]\n",
    "\n",
    "\n",
    "def main():\n",
    "    stats_list = map_to_list(get_stats())\n",
    "    stats_list.sort(key = max_sales_sort_lambda, reverse = True)\n",
    "    max_sales_channel = stats_list[MAX_SALES_CHANNEL_INDEX]\n",
    "\n",
    "    print(f'{max_sales_channel[CHANNEL_NAME_INDEX]} : {max_sales_channel[CHANNEL_SALES_INDEX]}')\n",
    "\n",
    "\n",
    "if __name__ == '__main__':\n",
    "    main()\n"
   ]
  }
 ],
 "metadata": {
  "kernelspec": {
   "display_name": "Python 3",
   "language": "python",
   "name": "python3"
  },
  "language_info": {
   "codemirror_mode": {
    "name": "ipython",
    "version": 3
   },
   "file_extension": ".py",
   "mimetype": "text/x-python",
   "name": "python",
   "nbconvert_exporter": "python",
   "pygments_lexer": "ipython3",
   "version": "3.7.6"
  }
 },
 "nbformat": 4,
 "nbformat_minor": 2
}
