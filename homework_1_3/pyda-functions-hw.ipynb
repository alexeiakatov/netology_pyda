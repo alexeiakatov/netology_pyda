{
 "cells": [
  {
   "cell_type": "markdown",
   "metadata": {},
   "source": [
    "## Задание 1"
   ]
  },
  {
   "cell_type": "markdown",
   "metadata": {},
   "source": [
    "Дан список вида:"
   ]
  },
  {
   "cell_type": "code",
   "execution_count": 1,
   "metadata": {},
   "outputs": [],
   "source": [
    "data = [\n",
    "    [13, 25, 23, 34],\n",
    "    [45, 32, 44, 47],\n",
    "    [12, 33, 23, 95],\n",
    "    [13, 53, 34, 35]\n",
    "]\n",
    "    "
   ]
  },
  {
   "cell_type": "markdown",
   "metadata": {},
   "source": [
    "Напишите функцию, которая возвращает сумму элементов на диагонали. Т. е. 13+32+23+35.  \n",
    "Список может быть любой длины, но всегда является \"квадратным\" (количество элементов во вложенных списках равно их количеству)."
   ]
  },
  {
   "cell_type": "code",
   "execution_count": null,
   "metadata": {},
   "outputs": [],
   "source": [
    "# Здесь - простой вариант без пользовательского ввода, модулей и файла конфигурации. Полный вариант лежит в \n",
    "# homework_1_3\\tasks_with_modules\\hw_1_3_1_and_1_3_4\\task_1_with_user_input. Запускающий файл - main.py\n",
    "\n",
    "data = [\n",
    "    [13, 25, 23, 34],\n",
    "    [45, 32, 44, 47],\n",
    "    [12, 33, 23, 95],\n",
    "    [13, 53, 34, 35]\n",
    "]\n",
    "\n",
    "\n",
    "def show_matrix(matrix):\n",
    "    if matrix is not None and type(matrix) == list and len(matrix) > 0:\n",
    "        for row in matrix:\n",
    "            if len(row) > 0:\n",
    "                print(row)\n",
    "\n",
    "\n",
    "def calculate_main_diagonal_sum(matrix):\n",
    "\n",
    "    main_diagonal_sum = 0\n",
    "\n",
    "    for row_idx in range(len(matrix)):\n",
    "        for col_idx in range(len(matrix[0])):\n",
    "            if row_idx == col_idx:\n",
    "                main_diagonal_sum += matrix[row_idx][col_idx]\n",
    "\n",
    "    return main_diagonal_sum\n",
    "\n",
    "\n",
    "def main():\n",
    "    print(f'Сумма по основной диагонали: {calculate_main_diagonal_sum(data)}')\n",
    "\n",
    "\n",
    "if __name__ == '__main__':\n",
    "    main()\n",
    "    "
   ]
  },
  {
   "cell_type": "markdown",
   "metadata": {},
   "source": [
    "## Задание 2"
   ]
  },
  {
   "cell_type": "markdown",
   "metadata": {},
   "source": [
    "Напишите функцию, возвращающую сумму первых n чисел Фибоначчи (для этого вам может понадобится ознакомиться с рекурсией)."
   ]
  },
  {
   "cell_type": "code",
   "execution_count": 1,
   "metadata": {},
   "outputs": [
    {
     "name": "stdout",
     "output_type": "stream",
     "text": [
      "*** Для выхода введите 'exit' ***\n",
      "\n",
      "Сумму скольки первых чисел Фибоначчи нужно посчитать: exit\n"
     ]
    }
   ],
   "source": [
    "# Реализовано 2 варианта: с рекурсией и без рекурсии\n",
    "\n",
    "INPUT_FIBONACCI_ELEMENTS_COUNT = 'Сумму скольки первых чисел Фибоначчи нужно посчитать: '\n",
    "FIBONACCI_SUM_RESULT = 'Сумма первых {:s} чисел Фибоначи = {:s}'\n",
    "FIBONACCI_VALUES_MESSAGE = 'Последовательность чисел Фибоначи:'\n",
    "EXIT_INFO_MESSAGE = '*** Для выхода введите \\'exit\\' ***'\n",
    "INPUT_EXIT_COMMAND = 'exit'\n",
    "BAD_INPUT_MESSAGE = 'Введены неправильные данные!'\n",
    "\n",
    "\n",
    "get_default_fibonacci_values = lambda: [0, 1]\n",
    "\n",
    "\n",
    "def create_fibonacci_row(elements_count):\n",
    "\n",
    "    fibonacci_values = get_default_fibonacci_values()\n",
    "\n",
    "    if elements_count == 1 or elements_count == 2:\n",
    "        return fibonacci_values\n",
    "\n",
    "    idx_1 = None\n",
    "    idx_2 = None\n",
    "\n",
    "    for i in range(elements_count):\n",
    "        if i == 0 or i == 1:\n",
    "            continue\n",
    "\n",
    "        idx_1 = i - 1\n",
    "        idx_2 = i - 2\n",
    "        fibonacci_values.append(fibonacci_values[idx_1] + fibonacci_values[idx_2])\n",
    "\n",
    "    return fibonacci_values\n",
    "\n",
    "\n",
    "def get_fibonacci_sum(elements_count):\n",
    "    fibonacci_values = create_fibonacci_row(elements_count)\n",
    "\n",
    "    if elements_count == 1:\n",
    "        return fibonacci_values[0]\n",
    "\n",
    "    elif elements_count == 2:\n",
    "        return fibonacci_values[1]\n",
    "\n",
    "    else:\n",
    "        print(FIBONACCI_VALUES_MESSAGE)\n",
    "        print(fibonacci_values)\n",
    "        print()\n",
    "        return sum(fibonacci_values)\n",
    "\n",
    "\n",
    "is_user_input_valid = lambda user_input: (user_input is not None\n",
    "                                          and type(user_input) == str\n",
    "                                          and user_input.isnumeric()\n",
    "                                          and int(user_input) > 0)\n",
    "\n",
    "\n",
    "is_exit_command = lambda input_string: input_string == INPUT_EXIT_COMMAND\n",
    "\n",
    "\n",
    "def get_fibonacci_row_by_recursion(elements_count, array):\n",
    "\n",
    "    if elements_count > len(array):\n",
    "        if len(array) == 0:\n",
    "            array.append(0)\n",
    "\n",
    "        elif len(array) == 1:\n",
    "            array.append(1)\n",
    "\n",
    "        else:\n",
    "            idx_1 = len(array) - 1\n",
    "            idx_2 = len(array) - 2\n",
    "\n",
    "            array.append(array[idx_1] + array[idx_2])\n",
    "\n",
    "        get_fibonacci_row_by_recursion(elements_count, array)\n",
    "\n",
    "    return array\n",
    "\n",
    "\n",
    "def get_fibonacci_sum_by_recursion(elements_count):\n",
    "    fibonacci_values = get_fibonacci_row_by_recursion(elements_count, [])\n",
    "    print(FIBONACCI_VALUES_MESSAGE)\n",
    "    print(fibonacci_values)\n",
    "    print()\n",
    "\n",
    "    return sum(fibonacci_values)\n",
    "\n",
    "\n",
    "def main():\n",
    "    print(EXIT_INFO_MESSAGE)\n",
    "    print()\n",
    "\n",
    "    while True:\n",
    "        fibonacci_elements_count = input(INPUT_FIBONACCI_ELEMENTS_COUNT).strip()\n",
    "\n",
    "        if is_exit_command(fibonacci_elements_count):\n",
    "            break\n",
    "\n",
    "        if is_user_input_valid(fibonacci_elements_count):\n",
    "            result = get_fibonacci_sum(int(fibonacci_elements_count))\n",
    "            print(FIBONACCI_SUM_RESULT.format(fibonacci_elements_count, str(result)))\n",
    "\n",
    "            print()\n",
    "            print('Через рекурсию:')\n",
    "            result_by_recursion = get_fibonacci_sum_by_recursion(int(fibonacci_elements_count))\n",
    "            print(FIBONACCI_SUM_RESULT.format(fibonacci_elements_count, str(result_by_recursion)))\n",
    "\n",
    "        else:\n",
    "            print(BAD_INPUT_MESSAGE)\n",
    "\n",
    "        print('****************************')\n",
    "        print()\n",
    "\n",
    "\n",
    "if __name__ == '__main__':\n",
    "    main()\n"
   ]
  },
  {
   "cell_type": "markdown",
   "metadata": {},
   "source": [
    "## Задание 3\n"
   ]
  },
  {
   "cell_type": "markdown",
   "metadata": {},
   "source": [
    "Напишите функцию, преобразующую произвольный список вида ['2018-01-01', 'yandex', 'cpc', 100] (он может быть любой длины) в словарь {'2018-01-01': {'yandex': {'cpc': 100}}}"
   ]
  },
  {
   "cell_type": "code",
   "execution_count": 1,
   "metadata": {},
   "outputs": [
    {
     "name": "stdout",
     "output_type": "stream",
     "text": [
      "\n",
      "Результат {'2018-01-01': {'yandex': {'cpc': 100}}}\n"
     ]
    }
   ],
   "source": [
    "source = ['2018-01-01', 'yandex', 'cpc', 100]\n",
    "\n",
    "\n",
    "def validate_params(source_list, current_idx, target_map):\n",
    "    if source_list is None or len(source_list) < 2:\n",
    "        raise Exception('Массив-источник не м.б. None или содержать менее 2х элементов ')\n",
    "\n",
    "    if type(current_idx) != int or current_idx < 0:\n",
    "        raise Exception('Индекс д.б. положительным числом')\n",
    "\n",
    "    if type(target_map) != dict:\n",
    "        raise Exception('Неправильный тип целевого словаря')\n",
    "\n",
    "\n",
    "def generate_map(source_list, current_idx=0, target_map={}):\n",
    "\n",
    "    validate_params(source_list, current_idx, target_map)\n",
    "\n",
    "    if current_idx <= len(source_list) - 1:\n",
    "\n",
    "        if current_idx == 1:\n",
    "            previous_list_element = source_list[current_idx - 1]\n",
    "            target_map = {source_list[current_idx]:  previous_list_element}\n",
    "\n",
    "        elif current_idx > 1:\n",
    "            target_map = {source_list[current_idx]: target_map}\n",
    "\n",
    "        return generate_map(source_list, current_idx + 1, target_map)\n",
    "\n",
    "    return target_map\n",
    "\n",
    "\n",
    "def main():\n",
    "    source.reverse()\n",
    "    result = generate_map(source)\n",
    "    print()\n",
    "    print(f'Результат {result}')\n",
    "\n",
    "\n",
    "if __name__ == '__main__':\n",
    "    main()\n"
   ]
  },
  {
   "cell_type": "markdown",
   "metadata": {},
   "source": [
    "## Задание 4"
   ]
  },
  {
   "cell_type": "markdown",
   "metadata": {},
   "source": [
    "Вы работаете секретарем и вам постоянно приходят различные документы. Вы должны быть очень внимательны, чтобы не потерять ни один документ. Каталог документов хранится в следующем виде:"
   ]
  },
  {
   "cell_type": "code",
   "execution_count": 4,
   "metadata": {},
   "outputs": [],
   "source": [
    "documents = [\n",
    "    {'type': 'passport', 'number': '2207 876234', 'name': 'Василий Гупкин'},\n",
    "    {'type': 'invoice', 'number': '11-2', 'name': 'Геннадий Покемонов'},\n",
    "    {'type': 'insurance', 'number': '10006', 'name': 'Аристарх Павлов'}\n",
    "]"
   ]
  },
  {
   "cell_type": "markdown",
   "metadata": {},
   "source": [
    "Перечень полок, на которых находятся документы хранится в следующем виде:"
   ]
  },
  {
   "cell_type": "code",
   "execution_count": 5,
   "metadata": {},
   "outputs": [],
   "source": [
    "directories = {\n",
    "    '1': ['2207 876234', '11-2', '5455 028765'],\n",
    "    '2': ['10006', '5400 028765', '5455 002299'],\n",
    "    '3': []\n",
    "}"
   ]
  },
  {
   "cell_type": "markdown",
   "metadata": {},
   "source": [
    "Необходимо реализовать пользовательские команды (внимание! это не название функций, которые должны быть выразительными, а команды, которые вводит пользователь, чтобы получить необходимый результат):\n",
    "  \n",
    "- p – people – команда, которая спросит номер документа и выведет имя человека, которому он принадлежит;  \n",
    "- s – shelf – команда, которая спросит номер документа и выведет номер полки, на которой он находится  \n",
    "Правильно обработайте ситуацию, когда пользователь будет вводить несуществующий документ.\n",
    "- l – list – команда, которая выведет список всех документов в формате   \n",
    "**passport \"2207 876234\" \"Василий Гупкин\"**  \n",
    "- as – add shelf – команда, которая спросит номер новой полки и добавит ее в перечень\n",
    "- d – delete – команда, которая спросит номер документа и удалит его из каталога и из перечня полок. Предусмотрите сценарий, когда пользователь вводит несуществующий документ;  \n",
    "- m – move – команда, которая спросит номер документа и целевую полку и переместит его с текущей полки на целевую. Корректно обработайте кейсы, когда пользователь пытается переместить несуществующий документ или переместить документ на несуществующую полку;  \n",
    "- a – add – команда, которая добавит новый документ в каталог и в перечень полок, спросив его номер, тип, имя владельца и номер полки, на котором он будет храниться."
   ]
  },
  {
   "cell_type": "code",
   "execution_count": null,
   "metadata": {},
   "outputs": [],
   "source": [
    "# Задача № 4 сделана с использованием модулей. Находится в папке: homework_1_3\\tasks_with_modules\\hw_1_3_1_and_1_3_4\\task_4. \n",
    "# Основной пакет программы - tasks_with_modules. Все зависимости использованные в import разрешаются от нее. Эта папка \n",
    "# должна лежать в директории проекта на одном уровне с venv (или нужно корректировать импорты)\n"
   ]
  }
 ],
 "metadata": {
  "kernelspec": {
   "display_name": "Python 3",
   "language": "python",
   "name": "python3"
  },
  "language_info": {
   "codemirror_mode": {
    "name": "ipython",
    "version": 3
   },
   "file_extension": ".py",
   "mimetype": "text/x-python",
   "name": "python",
   "nbconvert_exporter": "python",
   "pygments_lexer": "ipython3",
   "version": "3.7.6"
  }
 },
 "nbformat": 4,
 "nbformat_minor": 2
}
